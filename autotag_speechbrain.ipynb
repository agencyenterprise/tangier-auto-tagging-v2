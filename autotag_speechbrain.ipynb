{
 "cells": [
  {
   "cell_type": "code",
   "execution_count": 4,
   "metadata": {},
   "outputs": [],
   "source": [
    "# !pip install git+https://github.com/speechbrain/speechbrain.git@develop\n",
    "# !pip install --pre torch torchvision torchaudio --extra-index-url https://download.pytorch.org/whl/nightly/cpu\n"
   ]
  },
  {
   "cell_type": "code",
   "execution_count": 5,
   "metadata": {},
   "outputs": [
    {
     "name": "stderr",
     "output_type": "stream",
     "text": [
      "INFO:speechbrain.utils.fetching:Fetch hyperparams.yaml: Fetching from HuggingFace Hub 'speechbrain/emotion-recognition-wav2vec2-IEMOCAP' if not cached\n",
      "INFO:speechbrain.utils.fetching:Fetch custom_interface.py: Fetching from HuggingFace Hub 'speechbrain/emotion-recognition-wav2vec2-IEMOCAP' if not cached\n",
      "WARNING:speechbrain.lobes.models.huggingface_transformers.huggingface:speechbrain.lobes.models.huggingface_transformers.huggingface - Wav2Vec2Model is frozen.\n",
      "INFO:speechbrain.utils.fetching:Fetch wav2vec2.ckpt: Fetching from HuggingFace Hub 'speechbrain/emotion-recognition-wav2vec2-IEMOCAP' if not cached\n",
      "INFO:speechbrain.utils.fetching:Fetch wav2vec2.ckpt: Fetching from HuggingFace Hub 'speechbrain/emotion-recognition-wav2vec2-IEMOCAP' if not cached\n",
      "INFO:speechbrain.utils.fetching:Fetch model.ckpt: Fetching from HuggingFace Hub 'speechbrain/emotion-recognition-wav2vec2-IEMOCAP' if not cached\n",
      "INFO:speechbrain.utils.fetching:Fetch model.ckpt: Fetching from HuggingFace Hub 'speechbrain/emotion-recognition-wav2vec2-IEMOCAP' if not cached\n",
      "INFO:speechbrain.utils.fetching:Fetch label_encoder.txt: Fetching from HuggingFace Hub 'speechbrain/emotion-recognition-wav2vec2-IEMOCAP' if not cached\n",
      "INFO:speechbrain.utils.fetching:Fetch label_encoder.txt: Fetching from HuggingFace Hub 'speechbrain/emotion-recognition-wav2vec2-IEMOCAP' if not cached\n",
      "INFO:speechbrain.utils.parameter_transfer:Loading pretrained files for: wav2vec2, model, label_encoder\n"
     ]
    }
   ],
   "source": [
    "from speechbrain.inference.interfaces import foreign_class\n",
    "\n",
    "classifier = foreign_class(source=\"speechbrain/emotion-recognition-wav2vec2-IEMOCAP\", \n",
    "                           pymodule_file=\"custom_interface.py\", \n",
    "                           classname=\"CustomEncoderWav2vec2Classifier\")"
   ]
  },
  {
   "cell_type": "code",
   "execution_count": 7,
   "metadata": {},
   "outputs": [
    {
     "name": "stdout",
     "output_type": "stream",
     "text": [
      "[youtube] Extracting URL: fJ9rUzIMcZQ\n",
      "[youtube] fJ9rUzIMcZQ: Downloading webpage\n",
      "[youtube] fJ9rUzIMcZQ: Downloading ios player API JSON\n",
      "[youtube] fJ9rUzIMcZQ: Downloading mweb player API JSON\n",
      "[youtube] fJ9rUzIMcZQ: Downloading player 2b2385a0\n",
      "[youtube] fJ9rUzIMcZQ: Downloading m3u8 information\n",
      "[info] fJ9rUzIMcZQ: Downloading 1 format(s): 251\n",
      "[download] Queen – Bohemian Rhapsody (Official Video Remastered) [fJ9rUzIMcZQ].webm has already been downloaded\n",
      "\u001b[K[download] 100% of    5.68MiB\n",
      "[ExtractAudio] Destination: Queen – Bohemian Rhapsody (Official Video Remastered) [fJ9rUzIMcZQ].wav\n",
      "Deleting original file Queen – Bohemian Rhapsody (Official Video Remastered) [fJ9rUzIMcZQ].webm (pass -k to keep)\n"
     ]
    }
   ],
   "source": [
    "!yt-dlp -x --audio-format wav fJ9rUzIMcZQ"
   ]
  },
  {
   "cell_type": "code",
   "execution_count": 8,
   "metadata": {},
   "outputs": [
    {
     "name": "stdout",
     "output_type": "stream",
     "text": [
      "Exported: segment_0_10.wav\n",
      "Exported: segment_10_20.wav\n",
      "Exported: segment_20_30.wav\n",
      "Exported: segment_30_40.wav\n",
      "Exported: segment_40_50.wav\n",
      "Exported: segment_50_60.wav\n",
      "Exported: segment_60_70.wav\n",
      "Exported: segment_70_80.wav\n",
      "Exported: segment_80_90.wav\n",
      "Exported: segment_90_100.wav\n",
      "Exported: segment_100_110.wav\n",
      "Exported: segment_110_120.wav\n",
      "Exported: segment_120_130.wav\n",
      "Exported: segment_130_140.wav\n",
      "Exported: segment_140_150.wav\n",
      "Exported: segment_150_160.wav\n",
      "Exported: segment_160_170.wav\n",
      "Exported: segment_170_180.wav\n",
      "Exported: segment_180_190.wav\n",
      "Exported: segment_190_200.wav\n",
      "Exported: segment_200_210.wav\n",
      "Exported: segment_210_220.wav\n",
      "Exported: segment_220_230.wav\n",
      "Exported: segment_230_240.wav\n",
      "Exported: segment_240_250.wav\n",
      "Exported: segment_250_260.wav\n",
      "Exported: segment_260_270.wav\n",
      "Exported: segment_270_280.wav\n",
      "Exported: segment_280_290.wav\n",
      "Exported: segment_290_300.wav\n",
      "Exported: segment_300_310.wav\n",
      "Exported: segment_310_320.wav\n",
      "Exported: segment_320_330.wav\n",
      "Exported: segment_330_340.wav\n",
      "Exported: segment_340_350.wav\n",
      "Exported: segment_350_360.wav\n"
     ]
    }
   ],
   "source": [
    "from pydub import AudioSegment\n",
    "import os\n",
    "\n",
    "def split_wav(input_file, output_folder, segment_length_ms=10000):\n",
    "    # Load the audio file\n",
    "    audio = AudioSegment.from_wav(input_file)\n",
    "    \n",
    "    # Create output folder if it doesn't exist\n",
    "    os.makedirs(output_folder, exist_ok=True)\n",
    "    \n",
    "    # Get the total length of the audio in milliseconds\n",
    "    total_length_ms = len(audio)\n",
    "    \n",
    "    # Split the audio into 30-second segments\n",
    "    for i, start in enumerate(range(0, total_length_ms, segment_length_ms)):\n",
    "        end = start + segment_length_ms\n",
    "        segment = audio[start:end]\n",
    "        \n",
    "        # Generate output filename\n",
    "        output_filename = f\"segment_{start//1000}_{end//1000}.wav\"\n",
    "        output_path = os.path.join(output_folder, output_filename)\n",
    "        \n",
    "        # Export the segment\n",
    "        segment.export(output_path, format=\"wav\")\n",
    "        print(f\"Exported: {output_filename}\")\n",
    "\n",
    "# Example usage\n",
    "input_file = \"Queen – Bohemian Rhapsody (Official Video Remastered) [fJ9rUzIMcZQ].wav\"\n",
    "output_folder = \"data/borhap\"\n",
    "split_wav(input_file, output_folder)"
   ]
  },
  {
   "cell_type": "markdown",
   "metadata": {},
   "source": [
    "[Songs that change genre](https://www.reddit.com/r/Music/comments/2xql0a/does_anybody_know_any_songs_that_dramatically/)"
   ]
  },
  {
   "cell_type": "code",
   "execution_count": 8,
   "metadata": {},
   "outputs": [],
   "source": [
    "%%capture\n",
    "!wget https://www.dropbox.com/s/u8qyvuyie2op286/spk1_snt1.wav"
   ]
  },
  {
   "cell_type": "code",
   "execution_count": 10,
   "metadata": {},
   "outputs": [
    {
     "ename": "RuntimeError",
     "evalue": "Error loading audio file: failed to open file spk1_snt1.wav",
     "output_type": "error",
     "traceback": [
      "\u001b[0;31m---------------------------------------------------------------------------\u001b[0m",
      "\u001b[0;31mRuntimeError\u001b[0m                              Traceback (most recent call last)",
      "Cell \u001b[0;32mIn[10], line 3\u001b[0m\n\u001b[1;32m      1\u001b[0m \u001b[38;5;28;01mimport\u001b[39;00m \u001b[38;5;21;01mspeechbrain\u001b[39;00m \u001b[38;5;28;01mas\u001b[39;00m \u001b[38;5;21;01msb\u001b[39;00m\n\u001b[0;32m----> 3\u001b[0m source \u001b[38;5;241m=\u001b[39m \u001b[43msb\u001b[49m\u001b[38;5;241;43m.\u001b[39;49m\u001b[43mdataio\u001b[49m\u001b[38;5;241;43m.\u001b[39;49m\u001b[43mdataio\u001b[49m\u001b[38;5;241;43m.\u001b[39;49m\u001b[43mread_audio\u001b[49m\u001b[43m(\u001b[49m\u001b[38;5;124;43m'\u001b[39;49m\u001b[38;5;124;43mspk1_snt1.wav\u001b[39;49m\u001b[38;5;124;43m'\u001b[39;49m\u001b[43m)\u001b[49m\u001b[38;5;241m.\u001b[39msqueeze()\n\u001b[1;32m      4\u001b[0m \u001b[38;5;28mprint\u001b[39m(source\u001b[38;5;241m.\u001b[39mshape)\n",
      "File \u001b[0;32m~/Documents/Code/AE/tangier-auto-tagging-v2/.conda/lib/python3.11/site-packages/speechbrain/dataio/dataio.py:278\u001b[0m, in \u001b[0;36mread_audio\u001b[0;34m(waveforms_obj)\u001b[0m\n\u001b[1;32m    225\u001b[0m \u001b[38;5;250m\u001b[39m\u001b[38;5;124;03m\"\"\"General audio loading, based on a custom notation.\u001b[39;00m\n\u001b[1;32m    226\u001b[0m \n\u001b[1;32m    227\u001b[0m \u001b[38;5;124;03mExpected use case is in conjunction with Datasets\u001b[39;00m\n\u001b[0;32m   (...)\u001b[0m\n\u001b[1;32m    275\u001b[0m \u001b[38;5;124;03mTrue\u001b[39;00m\n\u001b[1;32m    276\u001b[0m \u001b[38;5;124;03m\"\"\"\u001b[39;00m\n\u001b[1;32m    277\u001b[0m \u001b[38;5;28;01mif\u001b[39;00m \u001b[38;5;28misinstance\u001b[39m(waveforms_obj, \u001b[38;5;28mstr\u001b[39m):\n\u001b[0;32m--> 278\u001b[0m     audio, _ \u001b[38;5;241m=\u001b[39m \u001b[43mtorchaudio\u001b[49m\u001b[38;5;241;43m.\u001b[39;49m\u001b[43mload\u001b[49m\u001b[43m(\u001b[49m\u001b[43mwaveforms_obj\u001b[49m\u001b[43m)\u001b[49m\n\u001b[1;32m    279\u001b[0m \u001b[38;5;28;01melse\u001b[39;00m:\n\u001b[1;32m    280\u001b[0m     path \u001b[38;5;241m=\u001b[39m waveforms_obj[\u001b[38;5;124m\"\u001b[39m\u001b[38;5;124mfile\u001b[39m\u001b[38;5;124m\"\u001b[39m]\n",
      "File \u001b[0;32m~/Documents/Code/AE/tangier-auto-tagging-v2/.conda/lib/python3.11/site-packages/torchaudio/_backend/utils.py:205\u001b[0m, in \u001b[0;36mget_load_func.<locals>.load\u001b[0;34m(uri, frame_offset, num_frames, normalize, channels_first, format, buffer_size, backend)\u001b[0m\n\u001b[1;32m    128\u001b[0m \u001b[38;5;250m\u001b[39m\u001b[38;5;124;03m\"\"\"Load audio data from source.\u001b[39;00m\n\u001b[1;32m    129\u001b[0m \n\u001b[1;32m    130\u001b[0m \u001b[38;5;124;03mBy default (``normalize=True``, ``channels_first=True``), this function returns Tensor with\u001b[39;00m\n\u001b[0;32m   (...)\u001b[0m\n\u001b[1;32m    202\u001b[0m \u001b[38;5;124;03m        `[channel, time]` else `[time, channel]`.\u001b[39;00m\n\u001b[1;32m    203\u001b[0m \u001b[38;5;124;03m\"\"\"\u001b[39;00m\n\u001b[1;32m    204\u001b[0m backend \u001b[38;5;241m=\u001b[39m dispatcher(uri, \u001b[38;5;28mformat\u001b[39m, backend)\n\u001b[0;32m--> 205\u001b[0m \u001b[38;5;28;01mreturn\u001b[39;00m \u001b[43mbackend\u001b[49m\u001b[38;5;241;43m.\u001b[39;49m\u001b[43mload\u001b[49m\u001b[43m(\u001b[49m\u001b[43muri\u001b[49m\u001b[43m,\u001b[49m\u001b[43m \u001b[49m\u001b[43mframe_offset\u001b[49m\u001b[43m,\u001b[49m\u001b[43m \u001b[49m\u001b[43mnum_frames\u001b[49m\u001b[43m,\u001b[49m\u001b[43m \u001b[49m\u001b[43mnormalize\u001b[49m\u001b[43m,\u001b[49m\u001b[43m \u001b[49m\u001b[43mchannels_first\u001b[49m\u001b[43m,\u001b[49m\u001b[43m \u001b[49m\u001b[38;5;28;43mformat\u001b[39;49m\u001b[43m,\u001b[49m\u001b[43m \u001b[49m\u001b[43mbuffer_size\u001b[49m\u001b[43m)\u001b[49m\n",
      "File \u001b[0;32m~/Documents/Code/AE/tangier-auto-tagging-v2/.conda/lib/python3.11/site-packages/torchaudio/_backend/sox.py:44\u001b[0m, in \u001b[0;36mSoXBackend.load\u001b[0;34m(uri, frame_offset, num_frames, normalize, channels_first, format, buffer_size)\u001b[0m\n\u001b[1;32m     39\u001b[0m     \u001b[38;5;28;01mraise\u001b[39;00m \u001b[38;5;167;01mValueError\u001b[39;00m(\n\u001b[1;32m     40\u001b[0m         \u001b[38;5;124m\"\u001b[39m\u001b[38;5;124mSoX backend does not support loading from file-like objects. \u001b[39m\u001b[38;5;124m\"\u001b[39m,\n\u001b[1;32m     41\u001b[0m         \u001b[38;5;124m\"\u001b[39m\u001b[38;5;124mPlease use an alternative backend that does support loading from file-like objects, e.g. FFmpeg.\u001b[39m\u001b[38;5;124m\"\u001b[39m,\n\u001b[1;32m     42\u001b[0m     )\n\u001b[1;32m     43\u001b[0m \u001b[38;5;28;01melse\u001b[39;00m:\n\u001b[0;32m---> 44\u001b[0m     ret \u001b[38;5;241m=\u001b[39m \u001b[43msox_ext\u001b[49m\u001b[38;5;241;43m.\u001b[39;49m\u001b[43mload_audio_file\u001b[49m\u001b[43m(\u001b[49m\u001b[43muri\u001b[49m\u001b[43m,\u001b[49m\u001b[43m \u001b[49m\u001b[43mframe_offset\u001b[49m\u001b[43m,\u001b[49m\u001b[43m \u001b[49m\u001b[43mnum_frames\u001b[49m\u001b[43m,\u001b[49m\u001b[43m \u001b[49m\u001b[43mnormalize\u001b[49m\u001b[43m,\u001b[49m\u001b[43m \u001b[49m\u001b[43mchannels_first\u001b[49m\u001b[43m,\u001b[49m\u001b[43m \u001b[49m\u001b[38;5;28;43mformat\u001b[39;49m\u001b[43m)\u001b[49m\n\u001b[1;32m     45\u001b[0m     \u001b[38;5;28;01mif\u001b[39;00m \u001b[38;5;129;01mnot\u001b[39;00m ret:\n\u001b[1;32m     46\u001b[0m         \u001b[38;5;28;01mraise\u001b[39;00m \u001b[38;5;167;01mRuntimeError\u001b[39;00m(\u001b[38;5;124mf\u001b[39m\u001b[38;5;124m\"\u001b[39m\u001b[38;5;124mFailed to load audio from \u001b[39m\u001b[38;5;132;01m{\u001b[39;00muri\u001b[38;5;132;01m}\u001b[39;00m\u001b[38;5;124m.\u001b[39m\u001b[38;5;124m\"\u001b[39m)\n",
      "File \u001b[0;32m~/Documents/Code/AE/tangier-auto-tagging-v2/.conda/lib/python3.11/site-packages/torch/_ops.py:1061\u001b[0m, in \u001b[0;36mOpOverloadPacket.__call__\u001b[0;34m(self_, *args, **kwargs)\u001b[0m\n\u001b[1;32m   1059\u001b[0m \u001b[38;5;28;01mif\u001b[39;00m self_\u001b[38;5;241m.\u001b[39m_has_torchbind_op_overload \u001b[38;5;129;01mand\u001b[39;00m _must_dispatch_in_python(args, kwargs):\n\u001b[1;32m   1060\u001b[0m     \u001b[38;5;28;01mreturn\u001b[39;00m _call_overload_packet_from_python(self_, args, kwargs)\n\u001b[0;32m-> 1061\u001b[0m \u001b[38;5;28;01mreturn\u001b[39;00m \u001b[43mself_\u001b[49m\u001b[38;5;241;43m.\u001b[39;49m\u001b[43m_op\u001b[49m\u001b[43m(\u001b[49m\u001b[38;5;241;43m*\u001b[39;49m\u001b[43margs\u001b[49m\u001b[43m,\u001b[49m\u001b[43m \u001b[49m\u001b[38;5;241;43m*\u001b[39;49m\u001b[38;5;241;43m*\u001b[39;49m\u001b[43m(\u001b[49m\u001b[43mkwargs\u001b[49m\u001b[43m \u001b[49m\u001b[38;5;129;43;01mor\u001b[39;49;00m\u001b[43m \u001b[49m\u001b[43m{\u001b[49m\u001b[43m}\u001b[49m\u001b[43m)\u001b[49m\u001b[43m)\u001b[49m\n",
      "\u001b[0;31mRuntimeError\u001b[0m: Error loading audio file: failed to open file spk1_snt1.wav"
     ]
    }
   ],
   "source": [
    "import speechbrain as sb\n",
    "\n",
    "source = sb.dataio.dataio.read_audio('spk1_snt1.wav').squeeze()\n",
    "print(source.shape)"
   ]
  },
  {
   "cell_type": "code",
   "execution_count": 11,
   "metadata": {},
   "outputs": [],
   "source": [
    "# ensure file exists \n",
    "assert os.path.isfile(\"data/borhap/segment_0_10.wav\")"
   ]
  },
  {
   "cell_type": "code",
   "execution_count": 12,
   "metadata": {},
   "outputs": [
    {
     "name": "stdout",
     "output_type": "stream",
     "text": [
      "['sox', 'soundfile']\n"
     ]
    }
   ],
   "source": [
    "import torchaudio\n",
    "print(str(torchaudio.list_audio_backends()))"
   ]
  },
  {
   "cell_type": "code",
   "execution_count": 16,
   "metadata": {},
   "outputs": [
    {
     "name": "stdout",
     "output_type": "stream",
     "text": [
      "['neu']\n"
     ]
    }
   ],
   "source": [
    "out_prob, score, index, text_lab = classifier.classify_file('data/borhap/segment_150_160.wav')\n",
    "print(text_lab)"
   ]
  },
  {
   "cell_type": "code",
   "execution_count": 18,
   "metadata": {},
   "outputs": [
    {
     "name": "stdout",
     "output_type": "stream",
     "text": [
      "['neu']\n"
     ]
    }
   ],
   "source": [
    "file_path = \"Sadness 9074234.wav\"\n",
    "out_prob, score, index, text_lab = classifier.classify_file('data/borhap/segment_150_160.wav')\n",
    "print(text_lab)"
   ]
  },
  {
   "cell_type": "code",
   "execution_count": null,
   "metadata": {},
   "outputs": [],
   "source": [
    "import boto3\n",
    "\n",
    "def list_s3_objects(bucket_name, prefix=''):\n",
    "    # Create an S3 client\n",
    "    s3 = boto3.client('s3')\n",
    "    \n",
    "    try:\n",
    "        # List objects in the bucket\n",
    "        response = s3.list_objects_v2(Bucket=bucket_name, Prefix=prefix)\n",
    "        \n",
    "        # Check if there are contents\n",
    "        if 'Contents' in response:\n",
    "            print(f\"Objects in bucket '{bucket_name}' with prefix '{prefix}':\")\n",
    "            for obj in response['Contents']:\n",
    "                print(f\"- {obj['Key']}\")\n",
    "        else:\n",
    "            print(f\"No objects found in bucket '{bucket_name}' with prefix '{prefix}'\")\n",
    "        \n",
    "        # Handle pagination if there are more than 1000 objects\n",
    "        while response.get('IsTruncated', False):\n",
    "            continuation_token = response.get('NextContinuationToken')\n",
    "            response = s3.list_objects_v2(Bucket=bucket_name, Prefix=prefix, ContinuationToken=continuation_token)\n",
    "            for obj in response.get('Contents', []):\n",
    "                print(f\"- {obj['Key']}\")\n",
    "    \n",
    "    except Exception as e:\n",
    "        print(f\"An error occurred: {e}\")\n",
    "\n",
    "# Example usage\n",
    "bucket_name = 'your-bucket-name'\n",
    "prefix = 'path/to/folder/'  # Optional: use to list objects in a specific \"folder\"\n",
    "\n",
    "list_s3_objects(bucket_name, prefix)"
   ]
  },
  {
   "cell_type": "code",
   "execution_count": 26,
   "metadata": {},
   "outputs": [
    {
     "name": "stderr",
     "output_type": "stream",
     "text": [
      "Downloading [examples/10_soul or r&b.mp3]: 100%|██████████| 1.39M/1.39M [00:01<00:00, 1.36MB/s]\n",
      "Downloading [examples/12_Pop Vocal Ballad.mp3]: 100%|██████████| 2.60M/2.60M [00:01<00:00, 2.62MB/s]\n",
      "Downloading [examples/13_Adult Contemporary.mp3]: 100%|██████████| 2.74M/2.74M [00:01<00:00, 2.35MB/s]\n",
      "Downloading [examples/14_Teen Pop.mp3]: 100%|██████████| 1.16M/1.16M [00:00<00:00, 1.32MB/s]\n",
      "Downloading [examples/15_contemporary dance pop.mp3]: 100%|██████████| 1.64M/1.64M [00:01<00:00, 1.64MB/s]\n",
      "Downloading [examples/16_dance pop.mp3]: 100%|██████████| 2.81M/2.81M [00:00<00:00, 3.08MB/s]\n",
      "Downloading [examples/17_classic indie pop.mp3]: 100%|██████████| 1.91M/1.91M [00:01<00:00, 1.85MB/s]\n",
      "Downloading [examples/18_chamber,cabaret & art pop.mp3]: 100%|██████████| 2.26M/2.26M [00:00<00:00, 2.65MB/s]\n",
      "Downloading [examples/19_Adult Alternative Rock.mp3]: 100%|██████████| 2.19M/2.19M [00:00<00:00, 2.55MB/s]\n",
      "Downloading [examples/20_Uplifting Anthemic Rock.mp3]: 100%|██████████| 1.64M/1.64M [00:00<00:00, 1.92MB/s]\n",
      "Downloading [examples/21_Soft Rock.mp3]: 100%|██████████| 939k/939k [00:01<00:00, 944kB/s]\n",
      "Downloading [examples/22_Acoustic Pop.mp3]: 100%|██████████| 4.65M/4.65M [00:01<00:00, 4.20MB/s]\n",
      "Downloading [examples/3_symphony.mp3]: 100%|██████████| 3.90M/3.90M [00:01<00:00, 2.94MB/s]\n",
      "Downloading [examples/4_opera.mp3]: 100%|██████████| 2.23M/2.23M [00:01<00:00, 2.32MB/s]\n",
      "Downloading [examples/5_solo.mp3]: 100%|██████████| 1.78M/1.78M [00:01<00:00, 1.59MB/s]\n",
      "Downloading [examples/6_chamber.mp3]: 100%|██████████| 4.61M/4.61M [00:01<00:00, 4.07MB/s]\n",
      "Downloading [vgg19_bn_mel/acc.csv]: 100%|██████████| 1.67k/1.67k [00:00<00:00, 1.80kB/s]\n",
      "Downloading [convnext_base_cqt/acc.csv]: 100%|██████████| 1.68k/1.68k [00:00<00:00, 2.27kB/s]\n",
      "Downloading [vit_b_16_mel/acc.csv]: 100%|██████████| 1.84k/1.84k [00:00<00:00, 2.49kB/s]\n",
      "Downloading [inception_v3_mel/acc.csv]: 100%|██████████| 1.69k/1.69k [00:00<00:00, 2.31kB/s]\n",
      "Downloading [swin_b_mel/acc.csv]: 100%|██████████| 1.80k/1.80k [00:00<00:00, 2.14kB/s]\n",
      "Downloading [vit_b_16_cqt/acc.csv]: 100%|██████████| 1.66k/1.66k [00:01<00:00, 1.07kB/s]\n",
      "Downloading [vgg19_bn_cqt/acc.csv]: 100%|██████████| 1.68k/1.68k [00:00<00:00, 1.87kB/s]\n",
      "Downloading [vgg19_bn_cqt/acc.jpg]: 100%|██████████| 21.0k/21.0k [00:00<00:00, 23.0kB/s]\n",
      "Downloading [configuration.json]: 100%|██████████| 53.0/53.0 [00:00<00:00, 59.1B/s]\n",
      "Downloading [genres_results.png]: 100%|██████████| 112k/112k [00:00<00:00, 119kB/s]\n",
      "Downloading [vgg19_bn_cqt/loss.csv]: 100%|██████████| 627k/627k [00:01<00:00, 544kB/s]\n",
      "Downloading [convnext_base_cqt/loss.csv]: 100%|██████████| 607k/607k [00:00<00:00, 688kB/s]\n",
      "Downloading [inception_v3_mel/loss.csv]: 100%|██████████| 604k/604k [00:01<00:00, 619kB/s]\n",
      "Downloading [vit_b_16_cqt/loss.csv]: 100%|██████████| 623k/623k [00:01<00:00, 636kB/s]\n",
      "Downloading [vgg19_bn_mel/loss.csv]: 100%|██████████| 626k/626k [00:01<00:00, 601kB/s]\n",
      "Downloading [vit_b_16_mel/loss.csv]: 100%|██████████| 615k/615k [00:01<00:00, 574kB/s]\n",
      "Downloading [swin_b_mel/loss.csv]: 100%|██████████| 610k/610k [00:01<00:00, 583kB/s]\n",
      "Downloading [vgg19_bn_cqt/loss.jpg]: 100%|██████████| 20.4k/20.4k [00:01<00:00, 19.9kB/s]\n",
      "Downloading [vgg19_bn_mel/mat.csv]: 100%|██████████| 6.25k/6.25k [00:00<00:00, 7.29kB/s]\n",
      "Downloading [convnext_base_cqt/mat.csv]: 100%|██████████| 6.25k/6.25k [00:00<00:00, 7.20kB/s]\n",
      "Downloading [vgg19_bn_cqt/mat.csv]: 100%|██████████| 6.25k/6.25k [00:00<00:00, 6.85kB/s]\n",
      "Downloading [swin_b_mel/mat.csv]: 100%|██████████| 6.25k/6.25k [00:00<00:00, 6.56kB/s]\n",
      "Downloading [inception_v3_mel/mat.csv]: 100%|██████████| 6.25k/6.25k [00:01<00:00, 6.14kB/s]\n",
      "Downloading [vit_b_16_mel/mat.csv]: 100%|██████████| 6.25k/6.25k [00:00<00:00, 8.01kB/s]\n",
      "Downloading [vit_b_16_cqt/mat.csv]: 100%|██████████| 6.25k/6.25k [00:01<00:00, 6.19kB/s]\n",
      "Downloading [vgg19_bn_cqt/mat.jpg]: 100%|██████████| 49.9k/49.9k [00:01<00:00, 43.3kB/s]\n",
      "Downloading [plot.py]: 100%|██████████| 3.68k/3.68k [00:00<00:00, 3.94kB/s]\n",
      "Downloading [README.md]: 100%|██████████| 2.63k/2.63k [00:00<00:00, 3.53kB/s]\n",
      "Downloading [vgg19_bn_cqt/result.log]: 100%|██████████| 1.55k/1.55k [00:00<00:00, 1.63kB/s]\n",
      "Downloading [vgg19_bn_mel/result.log]: 100%|██████████| 1.55k/1.55k [00:00<00:00, 1.68kB/s]\n",
      "Downloading [convnext_base_cqt/result.log]: 100%|██████████| 1.58k/1.58k [00:00<00:00, 2.07kB/s]\n",
      "Downloading [vit_b_16_mel/result.log]: 100%|██████████| 1.55k/1.55k [00:00<00:00, 1.71kB/s]\n",
      "Downloading [swin_b_mel/result.log]: 100%|██████████| 1.54k/1.54k [00:00<00:00, 2.08kB/s]\n",
      "Downloading [inception_v3_mel/result.log]: 100%|██████████| 1.55k/1.55k [00:00<00:00, 1.79kB/s]\n",
      "Downloading [vit_b_16_cqt/result.log]: 100%|██████████| 1.55k/1.55k [00:01<00:00, 1.43kB/s]\n",
      "Downloading [convnext_base_cqt/save.pt]: 100%|██████████| 336M/336M [00:17<00:00, 20.5MB/s] \n",
      "Downloading [vit_b_16_cqt/save.pt]: 100%|██████████| 328M/328M [00:07<00:00, 47.5MB/s] \n",
      "Downloading [vgg19_bn_mel/save.pt]: 100%|██████████| 465M/465M [00:09<00:00, 51.8MB/s] \n",
      "Downloading [vit_b_16_mel/save.pt]: 100%|██████████| 328M/328M [00:08<00:00, 41.8MB/s] \n",
      "Downloading [vgg19_bn_cqt/save.pt]: 100%|██████████| 465M/465M [00:18<00:00, 25.8MB/s] \n",
      "Downloading [swin_b_mel/save.pt]: 100%|██████████| 333M/333M [00:13<00:00, 26.8MB/s] \n",
      "Downloading [inception_v3_mel/save.pt]: 100%|██████████| 101M/101M [00:04<00:00, 23.5MB/s] \n"
     ]
    }
   ],
   "source": [
    "import boto3\n",
    "\n",
    "def download_file_from_s3(bucket_name, s3_file_path, local_file_path):\n",
    "    # Create an S3 client\n",
    "    s3 = boto3.client('s3')\n",
    "    \n",
    "    try:\n",
    "        # Download the file\n",
    "        s3.download_file(bucket_name, s3_file_path, local_file_path)\n",
    "        print(f\"File downloaded successfully to {local_file_path}\")\n",
    "    except Exception as e:\n",
    "        print(f\"An error occurred: {e}\")\n",
    "\n",
    "# Example usage\n",
    "bucket_name = os.environ.get(\"S3_BUCKET\")\n",
    "s3_file_path = 'path/to/your/file.txt'\n",
    "local_file_path = '/path/to/save/file.txt'\n",
    "\n",
    "download_file_from_s3(bucket_name, s3_file_path, local_file_path)"
   ]
  },
  {
   "cell_type": "code",
   "execution_count": null,
   "metadata": {},
   "outputs": [],
   "source": []
  }
 ],
 "metadata": {
  "kernelspec": {
   "display_name": "jmla",
   "language": "python",
   "name": "python3"
  },
  "language_info": {
   "codemirror_mode": {
    "name": "ipython",
    "version": 3
   },
   "file_extension": ".py",
   "mimetype": "text/x-python",
   "name": "python",
   "nbconvert_exporter": "python",
   "pygments_lexer": "ipython3",
   "version": "3.10.12"
  }
 },
 "nbformat": 4,
 "nbformat_minor": 2
}
