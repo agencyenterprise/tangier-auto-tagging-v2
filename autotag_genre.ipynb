{
 "cells": [
  {
   "cell_type": "code",
   "execution_count": null,
   "metadata": {
    "vscode": {
     "languageId": "plaintext"
    }
   },
   "outputs": [],
   "source": [
    "# from modelscope import snapshot_download\n",
    "# model_dir = snapshot_download('ccmusic-database/music_genre')\n",
    "from modelscope.pipelines import pipeline\n",
    "from modelscope.utils.constant import Tasks\n",
    "\n",
    "# Load the model\n",
    "model_id = 'ccmusic-database/music_genre'\n",
    "genre_classification = pipeline(Tasks.audio_classification, model=model_id)\n",
    "\n",
    "# Prepare your input\n",
    "audio_path = 'data/borhap/segment_0_10.wav'  # Replace with your audio file path\n",
    "\n",
    "# Run inference\n",
    "result = genre_classification(audio_path)\n",
    "\n",
    "# Print the result\n",
    "print(result)\n"
   ]
  }
 ],
 "metadata": {
  "language_info": {
   "name": "python"
  }
 },
 "nbformat": 4,
 "nbformat_minor": 2
}
